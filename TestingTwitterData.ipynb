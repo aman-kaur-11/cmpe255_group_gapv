{
  "nbformat": 4,
  "nbformat_minor": 0,
  "metadata": {
    "colab": {
      "provenance": [],
      "collapsed_sections": []
    },
    "kernelspec": {
      "name": "python3",
      "display_name": "Python 3"
    },
    "language_info": {
      "name": "python"
    }
  },
  "cells": [
    {
      "cell_type": "code",
      "execution_count": null,
      "metadata": {
        "id": "6nlUwXbqn_tz",
        "colab": {
          "base_uri": "https://localhost:8080/"
        },
        "outputId": "14ecdc2b-77ca-4404-953c-5af10129f567"
      },
      "outputs": [
        {
          "output_type": "stream",
          "name": "stderr",
          "text": [
            "/usr/local/lib/python3.7/dist-packages/IPython/core/interactiveshell.py:3326: DtypeWarning: Columns (1,2,3,5,8) have mixed types.Specify dtype option on import or set low_memory=False.\n",
            "  exec(code_obj, self.user_global_ns, self.user_ns)\n"
          ]
        }
      ],
      "source": [
        "import pandas as pd\n",
        "climate_disaster = pd.read_csv(\"/content/The Climate Change Twitter Dataset.csv\",header=None,na_values=\"?\")"
      ]
    },
    {
      "cell_type": "code",
      "source": [
        "climate_disaster.info()"
      ],
      "metadata": {
        "colab": {
          "base_uri": "https://localhost:8080/"
        },
        "id": "MGzeiPNpqYJU",
        "outputId": "de71cebe-ffa0-4da9-9f1b-b5cd744d9796"
      },
      "execution_count": null,
      "outputs": [
        {
          "output_type": "stream",
          "name": "stdout",
          "text": [
            "<class 'pandas.core.frame.DataFrame'>\n",
            "RangeIndex: 903724 entries, 0 to 903723\n",
            "Data columns (total 10 columns):\n",
            " #   Column  Non-Null Count   Dtype \n",
            "---  ------  --------------   ----- \n",
            " 0   0       903724 non-null  object\n",
            " 1   1       903724 non-null  object\n",
            " 2   2       272907 non-null  object\n",
            " 3   3       272907 non-null  object\n",
            " 4   4       903724 non-null  object\n",
            " 5   5       903723 non-null  object\n",
            " 6   6       903723 non-null  object\n",
            " 7   7       903723 non-null  object\n",
            " 8   8       272906 non-null  object\n",
            " 9   9       903723 non-null  object\n",
            "dtypes: object(10)\n",
            "memory usage: 68.9+ MB\n"
          ]
        }
      ]
    },
    {
      "cell_type": "code",
      "source": [
        "climate_disaster.head()"
      ],
      "metadata": {
        "id": "HReZ-h_bz7m8",
        "colab": {
          "base_uri": "https://localhost:8080/",
          "height": 374
        },
        "outputId": "a756f630-dc29-4ba2-aee6-73bd5eb181f7"
      },
      "execution_count": null,
      "outputs": [
        {
          "output_type": "execute_result",
          "data": {
            "text/plain": [
              "                  created_at      id          lng         lat  \\\n",
              "1  2006-06-06 16:06:42+00:00    6132          NaN         NaN   \n",
              "2  2006-07-23 21:52:30+00:00   13275  -73.9495823  40.6501038   \n",
              "3  2006-08-29 01:52:30+00:00   23160          NaN         NaN   \n",
              "4  2006-11-07 02:46:52+00:00   57868          NaN         NaN   \n",
              "5  2006-11-27 14:27:43+00:00  304553          NaN         NaN   \n",
              "\n",
              "                              topic             sentiment   stance     gender  \\\n",
              "1                  Weather Extremes  -0.09717993781566622  neutral     female   \n",
              "2                  Weather Extremes    0.5757773507595062  neutral  undefined   \n",
              "3                  Weather Extremes    0.5004789794921876  neutral       male   \n",
              "4                  Weather Extremes  0.032816063904762244  neutral       male   \n",
              "5  Importance of Human Intervantion  -0.09042840938568113  neutral       male   \n",
              "\n",
              "  temperature_avg aggressiveness  \n",
              "1             NaN     aggressive  \n",
              "2      -1.1147681     aggressive  \n",
              "3             NaN     aggressive  \n",
              "4             NaN     aggressive  \n",
              "5             NaN     aggressive  "
            ],
            "text/html": [
              "\n",
              "  <div id=\"df-aca5112f-19e5-4e56-965d-b8875acd45a1\">\n",
              "    <div class=\"colab-df-container\">\n",
              "      <div>\n",
              "<style scoped>\n",
              "    .dataframe tbody tr th:only-of-type {\n",
              "        vertical-align: middle;\n",
              "    }\n",
              "\n",
              "    .dataframe tbody tr th {\n",
              "        vertical-align: top;\n",
              "    }\n",
              "\n",
              "    .dataframe thead th {\n",
              "        text-align: right;\n",
              "    }\n",
              "</style>\n",
              "<table border=\"1\" class=\"dataframe\">\n",
              "  <thead>\n",
              "    <tr style=\"text-align: right;\">\n",
              "      <th></th>\n",
              "      <th>created_at</th>\n",
              "      <th>id</th>\n",
              "      <th>lng</th>\n",
              "      <th>lat</th>\n",
              "      <th>topic</th>\n",
              "      <th>sentiment</th>\n",
              "      <th>stance</th>\n",
              "      <th>gender</th>\n",
              "      <th>temperature_avg</th>\n",
              "      <th>aggressiveness</th>\n",
              "    </tr>\n",
              "  </thead>\n",
              "  <tbody>\n",
              "    <tr>\n",
              "      <th>1</th>\n",
              "      <td>2006-06-06 16:06:42+00:00</td>\n",
              "      <td>6132</td>\n",
              "      <td>NaN</td>\n",
              "      <td>NaN</td>\n",
              "      <td>Weather Extremes</td>\n",
              "      <td>-0.09717993781566622</td>\n",
              "      <td>neutral</td>\n",
              "      <td>female</td>\n",
              "      <td>NaN</td>\n",
              "      <td>aggressive</td>\n",
              "    </tr>\n",
              "    <tr>\n",
              "      <th>2</th>\n",
              "      <td>2006-07-23 21:52:30+00:00</td>\n",
              "      <td>13275</td>\n",
              "      <td>-73.9495823</td>\n",
              "      <td>40.6501038</td>\n",
              "      <td>Weather Extremes</td>\n",
              "      <td>0.5757773507595062</td>\n",
              "      <td>neutral</td>\n",
              "      <td>undefined</td>\n",
              "      <td>-1.1147681</td>\n",
              "      <td>aggressive</td>\n",
              "    </tr>\n",
              "    <tr>\n",
              "      <th>3</th>\n",
              "      <td>2006-08-29 01:52:30+00:00</td>\n",
              "      <td>23160</td>\n",
              "      <td>NaN</td>\n",
              "      <td>NaN</td>\n",
              "      <td>Weather Extremes</td>\n",
              "      <td>0.5004789794921876</td>\n",
              "      <td>neutral</td>\n",
              "      <td>male</td>\n",
              "      <td>NaN</td>\n",
              "      <td>aggressive</td>\n",
              "    </tr>\n",
              "    <tr>\n",
              "      <th>4</th>\n",
              "      <td>2006-11-07 02:46:52+00:00</td>\n",
              "      <td>57868</td>\n",
              "      <td>NaN</td>\n",
              "      <td>NaN</td>\n",
              "      <td>Weather Extremes</td>\n",
              "      <td>0.032816063904762244</td>\n",
              "      <td>neutral</td>\n",
              "      <td>male</td>\n",
              "      <td>NaN</td>\n",
              "      <td>aggressive</td>\n",
              "    </tr>\n",
              "    <tr>\n",
              "      <th>5</th>\n",
              "      <td>2006-11-27 14:27:43+00:00</td>\n",
              "      <td>304553</td>\n",
              "      <td>NaN</td>\n",
              "      <td>NaN</td>\n",
              "      <td>Importance of Human Intervantion</td>\n",
              "      <td>-0.09042840938568113</td>\n",
              "      <td>neutral</td>\n",
              "      <td>male</td>\n",
              "      <td>NaN</td>\n",
              "      <td>aggressive</td>\n",
              "    </tr>\n",
              "  </tbody>\n",
              "</table>\n",
              "</div>\n",
              "      <button class=\"colab-df-convert\" onclick=\"convertToInteractive('df-aca5112f-19e5-4e56-965d-b8875acd45a1')\"\n",
              "              title=\"Convert this dataframe to an interactive table.\"\n",
              "              style=\"display:none;\">\n",
              "        \n",
              "  <svg xmlns=\"http://www.w3.org/2000/svg\" height=\"24px\"viewBox=\"0 0 24 24\"\n",
              "       width=\"24px\">\n",
              "    <path d=\"M0 0h24v24H0V0z\" fill=\"none\"/>\n",
              "    <path d=\"M18.56 5.44l.94 2.06.94-2.06 2.06-.94-2.06-.94-.94-2.06-.94 2.06-2.06.94zm-11 1L8.5 8.5l.94-2.06 2.06-.94-2.06-.94L8.5 2.5l-.94 2.06-2.06.94zm10 10l.94 2.06.94-2.06 2.06-.94-2.06-.94-.94-2.06-.94 2.06-2.06.94z\"/><path d=\"M17.41 7.96l-1.37-1.37c-.4-.4-.92-.59-1.43-.59-.52 0-1.04.2-1.43.59L10.3 9.45l-7.72 7.72c-.78.78-.78 2.05 0 2.83L4 21.41c.39.39.9.59 1.41.59.51 0 1.02-.2 1.41-.59l7.78-7.78 2.81-2.81c.8-.78.8-2.07 0-2.86zM5.41 20L4 18.59l7.72-7.72 1.47 1.35L5.41 20z\"/>\n",
              "  </svg>\n",
              "      </button>\n",
              "      \n",
              "  <style>\n",
              "    .colab-df-container {\n",
              "      display:flex;\n",
              "      flex-wrap:wrap;\n",
              "      gap: 12px;\n",
              "    }\n",
              "\n",
              "    .colab-df-convert {\n",
              "      background-color: #E8F0FE;\n",
              "      border: none;\n",
              "      border-radius: 50%;\n",
              "      cursor: pointer;\n",
              "      display: none;\n",
              "      fill: #1967D2;\n",
              "      height: 32px;\n",
              "      padding: 0 0 0 0;\n",
              "      width: 32px;\n",
              "    }\n",
              "\n",
              "    .colab-df-convert:hover {\n",
              "      background-color: #E2EBFA;\n",
              "      box-shadow: 0px 1px 2px rgba(60, 64, 67, 0.3), 0px 1px 3px 1px rgba(60, 64, 67, 0.15);\n",
              "      fill: #174EA6;\n",
              "    }\n",
              "\n",
              "    [theme=dark] .colab-df-convert {\n",
              "      background-color: #3B4455;\n",
              "      fill: #D2E3FC;\n",
              "    }\n",
              "\n",
              "    [theme=dark] .colab-df-convert:hover {\n",
              "      background-color: #434B5C;\n",
              "      box-shadow: 0px 1px 3px 1px rgba(0, 0, 0, 0.15);\n",
              "      filter: drop-shadow(0px 1px 2px rgba(0, 0, 0, 0.3));\n",
              "      fill: #FFFFFF;\n",
              "    }\n",
              "  </style>\n",
              "\n",
              "      <script>\n",
              "        const buttonEl =\n",
              "          document.querySelector('#df-aca5112f-19e5-4e56-965d-b8875acd45a1 button.colab-df-convert');\n",
              "        buttonEl.style.display =\n",
              "          google.colab.kernel.accessAllowed ? 'block' : 'none';\n",
              "\n",
              "        async function convertToInteractive(key) {\n",
              "          const element = document.querySelector('#df-aca5112f-19e5-4e56-965d-b8875acd45a1');\n",
              "          const dataTable =\n",
              "            await google.colab.kernel.invokeFunction('convertToInteractive',\n",
              "                                                     [key], {});\n",
              "          if (!dataTable) return;\n",
              "\n",
              "          const docLinkHtml = 'Like what you see? Visit the ' +\n",
              "            '<a target=\"_blank\" href=https://colab.research.google.com/notebooks/data_table.ipynb>data table notebook</a>'\n",
              "            + ' to learn more about interactive tables.';\n",
              "          element.innerHTML = '';\n",
              "          dataTable['output_type'] = 'display_data';\n",
              "          await google.colab.output.renderOutput(dataTable, element);\n",
              "          const docLink = document.createElement('div');\n",
              "          docLink.innerHTML = docLinkHtml;\n",
              "          element.appendChild(docLink);\n",
              "        }\n",
              "      </script>\n",
              "    </div>\n",
              "  </div>\n",
              "  "
            ]
          },
          "metadata": {},
          "execution_count": 7
        }
      ]
    },
    {
      "cell_type": "code",
      "source": [
        "climate_disaster.dtypes"
      ],
      "metadata": {
        "id": "uLEinWDGL4p0",
        "outputId": "b0acfbbc-196e-479e-ef4a-96e32908bb39",
        "colab": {
          "base_uri": "https://localhost:8080/"
        }
      },
      "execution_count": null,
      "outputs": [
        {
          "output_type": "execute_result",
          "data": {
            "text/plain": [
              "created_at         object\n",
              "id                 object\n",
              "lng                object\n",
              "lat                object\n",
              "topic              object\n",
              "sentiment          object\n",
              "stance             object\n",
              "gender             object\n",
              "temperature_avg    object\n",
              "aggressiveness     object\n",
              "dtype: object"
            ]
          },
          "metadata": {},
          "execution_count": 9
        }
      ]
    },
    {
      "cell_type": "markdown",
      "source": [
        "# New Section"
      ],
      "metadata": {
        "id": "b_2FhpIuoCjo"
      }
    }
  ]
}